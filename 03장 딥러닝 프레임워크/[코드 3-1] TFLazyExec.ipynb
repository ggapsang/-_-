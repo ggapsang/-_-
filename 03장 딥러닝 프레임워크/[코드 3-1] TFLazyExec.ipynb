{
  "cells": [
    {
      "cell_type": "markdown",
      "metadata": {
        "id": "Wmcj5D9j_dJS"
      },
      "source": [
        "[1] 지연 실행 모드의 계산 그래프 구성"
      ]
    },
    {
      "cell_type": "code",
      "source": [
        "import warnings # Fixed the typo in the module name\n",
        "warnings.filterwarnings(action='ignore')"
      ],
      "metadata": {
        "id": "ft7ulUri_ob3"
      },
      "execution_count": 4,
      "outputs": []
    },
    {
      "cell_type": "code",
      "execution_count": 5,
      "metadata": {
        "id": "C9PxMQ5M_dJT",
        "outputId": "b9d1b799-5980-4b51-d02d-0bbc08b0cf01",
        "colab": {
          "base_uri": "https://localhost:8080/"
        }
      },
      "outputs": [
        {
          "output_type": "stream",
          "name": "stdout",
          "text": [
            "c = Tensor(\"add_1:0\", dtype=float32)\n"
          ]
        }
      ],
      "source": [
        "import tensorflow.compat.v1 as tf\n",
        "tf.disable_v2_behavior()\n",
        "\n",
        "# 계산 그래프 정의\n",
        "a = tf.placeholder(tf.float32)\n",
        "b = tf.placeholder(tf.float32)\n",
        "c = a + b\n",
        "print('c =', c)"
      ]
    },
    {
      "cell_type": "markdown",
      "metadata": {
        "id": "AY9UJG9m_dJU"
      },
      "source": [
        "[2] 계산 그래프의 실행"
      ]
    },
    {
      "cell_type": "code",
      "execution_count": 6,
      "metadata": {
        "id": "gpXx2NSy_dJU",
        "outputId": "6b3f9f95-3eb0-40f5-d8ac-a3726b7408a4",
        "colab": {
          "base_uri": "https://localhost:8080/"
        }
      },
      "outputs": [
        {
          "output_type": "stream",
          "name": "stdout",
          "text": [
            "result = 5.0\n"
          ]
        }
      ],
      "source": [
        "# 세션을 생성하여 그래프를 실행함\n",
        "with tf.Session() as sess:\n",
        "    # 'c'의 연산을 하는 그래프를 실행함\n",
        "    result = sess.run(c, {a:2., b:3.})\n",
        "print('result =', result)"
      ]
    },
    {
      "cell_type": "code",
      "source": [],
      "metadata": {
        "id": "qbbZLewP_fu9"
      },
      "execution_count": null,
      "outputs": []
    }
  ],
  "metadata": {
    "kernelspec": {
      "display_name": "Python 3",
      "language": "python",
      "name": "python3"
    },
    "language_info": {
      "codemirror_mode": {
        "name": "ipython",
        "version": 3
      },
      "file_extension": ".py",
      "mimetype": "text/x-python",
      "name": "python",
      "nbconvert_exporter": "python",
      "pygments_lexer": "ipython3",
      "version": "3.7.7"
    },
    "colab": {
      "provenance": []
    }
  },
  "nbformat": 4,
  "nbformat_minor": 0
}