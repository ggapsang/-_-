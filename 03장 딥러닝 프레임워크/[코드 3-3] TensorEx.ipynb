{
  "cells": [
    {
      "cell_type": "markdown",
      "metadata": {
        "id": "0ykAPxojBS1o"
      },
      "source": [
        "[1] 필요한 패키지 불러오기"
      ]
    },
    {
      "cell_type": "code",
      "execution_count": 1,
      "metadata": {
        "id": "kmN1QfXmBS1q"
      },
      "outputs": [],
      "source": [
        "import tensorflow as tf\n",
        "import numpy as np"
      ]
    },
    {
      "cell_type": "markdown",
      "metadata": {
        "id": "bv9xTWfRBS1q"
      },
      "source": [
        "[2] 상수 텐서"
      ]
    },
    {
      "cell_type": "code",
      "execution_count": 2,
      "metadata": {
        "id": "oC3PI4m6BS1r",
        "outputId": "06e2bc26-d154-44ff-e5db-a934ec00ede5",
        "colab": {
          "base_uri": "https://localhost:8080/"
        }
      },
      "outputs": [
        {
          "output_type": "stream",
          "name": "stdout",
          "text": [
            "a: dtype = <dtype: 'float32'> \n",
            " tf.Tensor(10.0, shape=(), dtype=float32)\n",
            "b: shape = (4,) \n",
            " tf.Tensor([1 2 3 4], shape=(4,), dtype=int32)\n",
            "c: device = /job:localhost/replica:0/task:0/device:CPU:0\n"
          ]
        }
      ],
      "source": [
        "a = tf.constant(10.) #상수 텐서 만들기 shape[]\n",
        "b = tf.constant([1, 2, 3, 4]) # rank 1 텐서. shape[4]\n",
        "c = tf.constant([[[1, 2], [3, 4], [5, 6]],\n",
        "                 [[7, 8], [9, 10], [11, 12]],\n",
        "                 [[13, 14], [15, 16],[17, 18]],\n",
        "                 [[19, 20], [21, 22], [23, 24]]], dtype=tf.float32) # rank 3 텐서 shap[4, 3, 2]\n",
        "print('a: dtype =', a.dtype, '\\n', a)\n",
        "print('b: shape =', b.shape, '\\n', b)\n",
        "print('c: device =', c.device)"
      ]
    },
    {
      "cell_type": "markdown",
      "metadata": {
        "id": "M7ZK2mFgBS1r"
      },
      "source": [
        "[3] 변수 텐서"
      ]
    },
    {
      "cell_type": "code",
      "execution_count": 3,
      "metadata": {
        "id": "RE3L3LwiBS1r",
        "outputId": "a5a57b52-99f5-4fe7-8c21-fa96cebcbb5c",
        "colab": {
          "base_uri": "https://localhost:8080/"
        }
      },
      "outputs": [
        {
          "output_type": "stream",
          "name": "stdout",
          "text": [
            "x: dtype = <dtype: 'float32'> \n",
            " <tf.Variable 'Variable:0' shape=() dtype=float32, numpy=10.0>\n",
            "y: shape = (2, 3) \n",
            " <tf.Variable 'Variable:0' shape=(2, 3) dtype=float32, numpy=\n",
            "array([[1., 2., 3.],\n",
            "       [4., 5., 6.]], dtype=float32)>\n",
            "y: device = /job:localhost/replica:0/task:0/device:CPU:0\n"
          ]
        }
      ],
      "source": [
        "x = tf.Variable(10.)\n",
        "y = tf.Variable([[1., 2., 3.], [4., 5., 6.]])\n",
        "z = np.array([[1., 3.], [2., 4.], [3., 5.]], dtype=np.float32)\n",
        "print('x: dtype =', x.dtype, '\\n', x)\n",
        "print('y: shape =', y.shape, '\\n', y)\n",
        "print('y: device =', y.device)"
      ]
    },
    {
      "cell_type": "markdown",
      "metadata": {
        "id": "mGDVqmBABS1r"
      },
      "source": [
        "[4] 변수 텐서에 값을 대입하기"
      ]
    },
    {
      "cell_type": "code",
      "execution_count": 4,
      "metadata": {
        "id": "SpckxTZuBS1s",
        "outputId": "10f6beb6-218c-4f3f-e674-b3bdc7e366a7",
        "colab": {
          "base_uri": "https://localhost:8080/"
        }
      },
      "outputs": [
        {
          "output_type": "stream",
          "name": "stdout",
          "text": [
            "x =  30.0\n"
          ]
        }
      ],
      "source": [
        "x.assign_add(20.)\n",
        "print('x = ', x.numpy())"
      ]
    },
    {
      "cell_type": "markdown",
      "metadata": {
        "id": "3tUk2n9pBS1s"
      },
      "source": [
        "[5] 텐서에 대한 산술 연산 및 수학 함수"
      ]
    },
    {
      "cell_type": "code",
      "execution_count": 5,
      "metadata": {
        "id": "u85x15QRBS1s",
        "outputId": "e22e51c3-5837-4a80-bd85-4740033db846",
        "colab": {
          "base_uri": "https://localhost:8080/"
        }
      },
      "outputs": [
        {
          "output_type": "stream",
          "name": "stdout",
          "text": [
            "a * b = [10. 20. 30. 40.]\n",
            "tf.math.exp(y) = tf.Tensor(\n",
            "[[  2.7182817   7.389056   20.085537 ]\n",
            " [ 54.59815   148.41316   403.4288   ]], shape=(2, 3), dtype=float32)\n",
            "tf.math.reduce_sum(c, axis=2) = tf.Tensor(\n",
            "[[ 3.  7. 11.]\n",
            " [15. 19. 23.]\n",
            " [27. 31. 35.]\n",
            " [39. 43. 47.]], shape=(4, 3), dtype=float32)\n"
          ]
        }
      ],
      "source": [
        "print('a * b =', (a * tf.cast(b, tf.float32)).numpy())\n",
        "print('tf.math.exp(y) =', tf.exp(y))\n",
        "print('tf.math.reduce_sum(c, axis=2) =', tf.reduce_sum(c, axis=2))"
      ]
    },
    {
      "cell_type": "markdown",
      "metadata": {
        "id": "nhg_WuGuBS1t"
      },
      "source": [
        "[6] 선형대수 연산 및 묵시적 형 변환"
      ]
    },
    {
      "cell_type": "code",
      "execution_count": 6,
      "metadata": {
        "id": "C0LizkpNBS1t",
        "outputId": "acaee27d-9ef6-4fbe-b544-fb17256df227",
        "colab": {
          "base_uri": "https://localhost:8080/"
        }
      },
      "outputs": [
        {
          "output_type": "stream",
          "name": "stdout",
          "text": [
            "tf.linalg.matmul(y, z) =\n",
            "tf.Tensor(\n",
            "[[14. 26.]\n",
            " [32. 62.]], shape=(2, 2), dtype=float32)\n",
            "np.matmul(y, z) =\n",
            "[[14. 26.]\n",
            " [32. 62.]]\n"
          ]
        }
      ],
      "source": [
        "print('tf.linalg.matmul(y, z) =')\n",
        "print(tf.matmul(y, z))\n",
        "print('np.matmul(y, z) =')\n",
        "print(np.matmul(y, z))"
      ]
    },
    {
      "cell_type": "markdown",
      "source": [],
      "metadata": {
        "id": "qH402dXTDNII"
      }
    },
    {
      "cell_type": "code",
      "source": [],
      "metadata": {
        "id": "VQtG5AvpDKdq"
      },
      "execution_count": null,
      "outputs": []
    }
  ],
  "metadata": {
    "kernelspec": {
      "display_name": "Python 3 (ipykernel)",
      "language": "python",
      "name": "python3"
    },
    "language_info": {
      "codemirror_mode": {
        "name": "ipython",
        "version": 3
      },
      "file_extension": ".py",
      "mimetype": "text/x-python",
      "name": "python",
      "nbconvert_exporter": "python",
      "pygments_lexer": "ipython3",
      "version": "3.9.16"
    },
    "colab": {
      "provenance": []
    }
  },
  "nbformat": 4,
  "nbformat_minor": 0
}